{
 "cells": [
  {
   "attachments": {},
   "cell_type": "markdown",
   "metadata": {},
   "source": [
    "# Digital Modulation"
   ]
  },
  {
   "cell_type": "code",
   "execution_count": null,
   "metadata": {},
   "outputs": [],
   "source": [
    "import numpy as np\n",
    "import matplotlib.pyplot as plt"
   ]
  },
  {
   "attachments": {},
   "cell_type": "markdown",
   "metadata": {},
   "source": [
    "As a short Python example, let’s generate QPSK at baseband and plot the constellation.\n",
    "\n",
    "Even though we could generate the complex symbols directly, let’s start from the knowledge that QPSK has four symbols at 90-degree intervals around the unit circle. We will use 45, 135, 225, and 315 degrees for our points. First we will generate random numbers between 0 and 3 and perform math to get the degrees we want before converting to radians."
   ]
  },
  {
   "cell_type": "code",
   "execution_count": null,
   "metadata": {},
   "outputs": [],
   "source": [
    "num_symbols = 1000\n",
    "\n",
    "x_int  = np.random.randint(0, 4, num_symbols)\n",
    "x_degrees = x_int*90 + 45\n",
    "x_radians = x_degrees*(np.pi/180)\n",
    "# Derive rectangular coordinates from polar\n",
    "x_symbols = np.cos(x_radians)+1j*np.sin(x_radians) \n",
    "fig, axs = plt.subplots(2,2)\n",
    "axs[0, 0].plot(np.real(x_symbols), np.imag(x_symbols), '.')\n",
    "plt.grid(True)\n",
    "\n",
    "# Observe how all the symbols we generated overlap. \n",
    "# There’s no noise so the symbols all have the same value. Let’s add some noise:\n",
    "noise = np.random.randn(num_symbols) + 1j*np.random.randn(num_symbols)\n",
    "noise_pwr = 0.01\n",
    "r1 = x_symbols + noise * np.sqrt(noise_pwr)\n",
    "axs[0, 1].plot(np.real(r1), np.imag(r1), '.')\n",
    "plt.grid(True)\n",
    "\n",
    "# For those interested in simulating phase noise, which could result \n",
    "# from phase jitter within the local oscillator (LO), replace the r with:\n",
    "phase_noise = np.random.randn(len(x_symbols)) * 0.1 # adjust multiplier for \"strength\" of phase noise\n",
    "r2 = x_symbols * np.exp(1j*phase_noise)\n",
    "axs[1, 0].plot(np.real(r2), np.imag(r2), '.')\n",
    "plt.grid(True)\n",
    "\n",
    "# This was to test if r_test == r2. It's TRUE, which means\n",
    "# numpy is smart enough to do the conversion in the background\n",
    "x_sym_rho = np.abs(x_symbols)\n",
    "x_sym_phi = np.arctan2(np.imag(x_symbols), np.real(x_symbols))\n",
    "r_test = (x_sym_rho*np.exp(1j*x_sym_phi)) * np.exp(1j*phase_noise)\n",
    "\n",
    "# You could even combine phase noise \n",
    "# with AWGN to get the full experience:\n",
    "r = r1 + r2\n",
    "axs[1, 1].plot(np.real(r), np.imag(r), '.')\n",
    "plt.grid(True)\n",
    "plt.show()\n"
   ]
  }
 ],
 "metadata": {
  "kernelspec": {
   "display_name": ".venv",
   "language": "python",
   "name": "python3"
  },
  "language_info": {
   "codemirror_mode": {
    "name": "ipython",
    "version": 3
   },
   "file_extension": ".py",
   "mimetype": "text/x-python",
   "name": "python",
   "nbconvert_exporter": "python",
   "pygments_lexer": "ipython3",
   "version": "3.9.6"
  },
  "orig_nbformat": 4
 },
 "nbformat": 4,
 "nbformat_minor": 2
}

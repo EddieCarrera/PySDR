{
 "cells": [
  {
   "attachments": {},
   "cell_type": "markdown",
   "metadata": {},
   "source": [
    "# Python exercises for Frequency Domain Chapter\n"
   ]
  },
  {
   "cell_type": "code",
   "execution_count": null,
   "metadata": {},
   "outputs": [],
   "source": [
    "import numpy as np\n",
    "import matplotlib.pyplot as plt"
   ]
  },
  {
   "attachments": {},
   "cell_type": "markdown",
   "metadata": {},
   "source": [
    "## FFT in Python"
   ]
  },
  {
   "cell_type": "code",
   "execution_count": null,
   "metadata": {},
   "outputs": [],
   "source": [
    "Fs = 1  # Hz\n",
    "N = 100\n",
    "\n",
    "t = np.arange(N)\n",
    "s = np.sin(2*np.pi*0.15*t)\n",
    "S = np.fft.fftshift(np.fft.fft(s))\n",
    "S_mag = np.abs(S)\n",
    "S_phase = np.angle(S)\n",
    "f = np.arange(-Fs/2, Fs/2, Fs/N)\n",
    "plt.figure(0)\n",
    "plt.plot(f, S_mag, '.-')\n",
    "plt.figure(1)\n",
    "plt.plot(f, S_phase, '.-')\n",
    "plt.show()"
   ]
  },
  {
   "attachments": {},
   "cell_type": "markdown",
   "metadata": {},
   "source": [
    "# Windowing \n",
    "\n",
    "When we use an FFT to measure the frequency components of our signal, the FFT assumes that it’s being given a piece of a periodic signal. It behaves as if the piece of signal we provided continues to repeat indefinitely. It’s as if the last sample of the slice connects back to the first sample. It stems from the theory behind the Fourier Transform. It means that we want to avoid sudden transitions between the first and last sample because sudden transitions in the time domain look like many frequencies, and in reality our last sample doesn’t actually connect back to our first sample. To put it simply: if we are doing an FFT of 100 samples, using np.fft.fft(x), we want x[0] and x[99] to be equal or close in value.\n",
    "\n",
    "The way we make up for this cyclic property is through “windowing”. Right before the FFT, we multiply the slice of signal by a window function, which is just any function that tapers to zero on both ends. That ensures the slice of signal will begin and end at zero and connect. Common window functions include Hamming, Hanning, Blackman, and Kaiser. When you don’t apply any windowing, it’s called using a “rectangular” window because it’s like multiplying by an array of ones."
   ]
  },
  {
   "cell_type": "code",
   "execution_count": null,
   "metadata": {},
   "outputs": [],
   "source": [
    "s = np.sin(2*np.pi*0.15*t)\n",
    "s = s * np.hamming(100)\n",
    "plt.figure(0)\n",
    "plt.plot(s, '.-')\n",
    "plt.show()"
   ]
  },
  {
   "attachments": {},
   "cell_type": "markdown",
   "metadata": {},
   "source": [
    "# Spectrogram/Waterfall¶\n"
   ]
  },
  {
   "cell_type": "code",
   "execution_count": null,
   "metadata": {},
   "outputs": [],
   "source": [
    "sample_rate = 1e6\n",
    "\n",
    "# Generate tone plus noise\n",
    "t = np.arange(1024*1000)/sample_rate # time vector\n",
    "f = 50e3 # freq of tone\n",
    "x = np.sin(2*np.pi*f*t) + 0.2*np.random.randn(len(t))\n",
    "\n",
    "# simulate the signal above, or use your own signal\n",
    "\n",
    "fft_size = 1024\n",
    "num_rows = len(x) // fft_size # // is an integer division which rounds down\n",
    "spectrogram = np.zeros((num_rows, fft_size))\n",
    "for i in range(num_rows):\n",
    "    spectrogram[i,:] = np.log10(np.abs(np.fft.fftshift(np.fft.fft(x[i*fft_size:(i+1)*fft_size])))**2)\n",
    "\n",
    "plt.imshow(spectrogram, aspect='auto', extent = [sample_rate/-2/1e6, sample_rate/2/1e6, 0, len(x)/sample_rate])\n",
    "plt.xlabel(\"Frequency [MHz]\")\n",
    "plt.ylabel(\"Time [s]\")\n",
    "plt.show()"
   ]
  }
 ],
 "metadata": {
  "kernelspec": {
   "display_name": ".venv",
   "language": "python",
   "name": "python3"
  },
  "language_info": {
   "codemirror_mode": {
    "name": "ipython",
    "version": 3
   },
   "file_extension": ".py",
   "mimetype": "text/x-python",
   "name": "python",
   "nbconvert_exporter": "python",
   "pygments_lexer": "ipython3",
   "version": "3.9.6"
  },
  "orig_nbformat": 4
 },
 "nbformat": 4,
 "nbformat_minor": 2
}

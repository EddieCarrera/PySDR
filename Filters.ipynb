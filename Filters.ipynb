{
 "cells": [
  {
   "attachments": {},
   "cell_type": "markdown",
   "metadata": {},
   "source": [
    "# Filters"
   ]
  },
  {
   "attachments": {},
   "cell_type": "markdown",
   "metadata": {},
   "source": [
    "An example of creating a filter:"
   ]
  },
  {
   "cell_type": "code",
   "execution_count": null,
   "metadata": {},
   "outputs": [],
   "source": [
    "import numpy as np\n",
    "from scipy import signal\n",
    "import matplotlib.pyplot as plt\n",
    "\n",
    "num_taps = 51 # it helps to use an odd number of taps, Type 1 FIR\n",
    "cut_off = 3000 # Hz\n",
    "sample_rate = 32000 # Hz\n",
    "\n",
    "# create our low pass filter\n",
    "# Hamming window is default\n",
    "h = signal.firwin(num_taps, cut_off, fs=sample_rate/2)\n",
    "\n",
    "# plot the impulse response\n",
    "fig, axs = plt.subplots(2)\n",
    "axs[0].grid(True)\n",
    "axs[0].plot(h, '.-')\n",
    "\n",
    "# Plot the frequency response\n",
    "H = np.fft.fftshift(np.fft.fft(h, 1024))\n",
    "H = np.abs(H)\n",
    "f = np.linspace(-sample_rate/2, sample_rate/2, len(H)) # x axis\n",
    "axs[1].grid(True)\n",
    "axs[1].plot(f, np.abs(H), '-')\n",
    "plt.show()\n",
    "plt.grid(True)\n",
    "w = np.linspace(0, 0.5, len(H)//2)\n",
    "x = H[(len(H)//2):]\n",
    "plt.plot(w, 20*np.log10(x), '-')\n",
    "plt.show()"
   ]
  }
 ],
 "metadata": {
  "kernelspec": {
   "display_name": ".venv",
   "language": "python",
   "name": "python3"
  },
  "language_info": {
   "codemirror_mode": {
    "name": "ipython",
    "version": 3
   },
   "file_extension": ".py",
   "mimetype": "text/x-python",
   "name": "python",
   "nbconvert_exporter": "python",
   "pygments_lexer": "ipython3",
   "version": "3.9.6"
  },
  "orig_nbformat": 4
 },
 "nbformat": 4,
 "nbformat_minor": 2
}

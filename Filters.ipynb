{
 "cells": [
  {
   "attachments": {},
   "cell_type": "markdown",
   "metadata": {},
   "source": [
    "# Filters"
   ]
  },
  {
   "attachments": {},
   "cell_type": "markdown",
   "metadata": {},
   "source": [
    "There are four basic types of filters: low-pass, high-pass, band-pass, and band-stop. Each type modifies signals to focus on different ranges of frequencies within them. The plots below demonstrate how frequencies in signals are filtered for each type, presented first with just positive frequencies (easier to understand), then also including negative. Negative frequencies must not be considered because SDRs operate with negative frequencies.\n",
    "\n",
    "![Alt text](https://pysdr.org/_images/filter_types.png)\n",
    "\n",
    "![Alt text](https://pysdr.org/_images/tikz-e3aaf5f7c52c87ef9c6da68e8d840ca469e0b53d.svg)\n",
    "\n",
    "![Alt text](https://pysdr.org/_images/tikz-f88ddd43f673a3ba2436438aa4b2b983f124db7a.svg)\n",
    "\n",
    "![Alt text](https://pysdr.org/_images/tikz-dc783ab4a1ffd65ac8cb37d787674c288a7566e3.svg)\n",
    "\n",
    "![Alt text](https://pysdr.org/_images/tikz-76b48577e5a767cb55f861dafb7dcb48c1718257.svg)"
   ]
  },
  {
   "attachments": {},
   "cell_type": "markdown",
   "metadata": {},
   "source": [
    "An example of creating a filter:"
   ]
  },
  {
   "cell_type": "code",
   "execution_count": null,
   "metadata": {},
   "outputs": [],
   "source": [
    "import numpy as np\n",
    "from scipy import signal\n",
    "import matplotlib.pyplot as plt\n",
    "from mpl_toolkits.axes_grid1.inset_locator import inset_axes\n",
    "\n",
    "# Odd number of taps for FIR type 1 filter\n",
    "num_taps = 51 \n",
    "cut_off = 3000 # Hz\n",
    "sample_rate = 32000 # Hz\n",
    "nyq_freq = sample_rate/2.0\n",
    "\n",
    "# create our low pass filter\n",
    "# Hamming window is default\n",
    "h = signal.firwin(num_taps, cut_off/nyq_freq)\n",
    "\n",
    "# Plot the impulse response\n",
    "plt.figure(1)\n",
    "plt.grid(True)\n",
    "plt.title(\"Time domain impulse response\")\n",
    "plt.plot(h, '.-')\n",
    "\n",
    "# Plot the frequency response using FFT\n",
    "plt.figure(2)\n",
    "H = np.fft.fftshift(np.fft.fft(h, 1024))\n",
    "f = np.linspace(-sample_rate/2, sample_rate/2, len(H)) # x axis\n",
    "plt.grid(True)\n",
    "plt.title(\"Frequency reponse using FFT method (linear)\")\n",
    "plt.plot(f, abs(H), '-')\n",
    "\n",
    "plt.figure(3)\n",
    "H = np.abs(H[len(H)//2:])\n",
    "fig, ax = plt.subplots()\n",
    "w = np.linspace(0, sample_rate/2, len(H))\n",
    "H_db = 20*np.log10(H)\n",
    "plt.plot(w, H_db)\n",
    "plt.grid(True)\n",
    "\n",
    "axins = inset_axes(ax, width=\"30%\", height=\"40%\")\n",
    "plt.grid(True)\n",
    "plt.xlim(2600,3050)\n",
    "plt.ylim(-10.0, 0)\n",
    "plt.plot(w, H_db, '-')\n",
    "\n",
    "# Plot the frequency response using freqz\n",
    "plt.figure(4)\n",
    "q, v = signal.freqz(h, worN = 1024)\n",
    "fig, ax = plt.subplots()\n",
    "plt.title(\"Frequency reponse using freqz\")\n",
    "plt.plot((q/np.pi)*nyq_freq, 20*np.log10(abs(v)))\n",
    "plt.grid(True)\n",
    "\n",
    "axins = inset_axes(ax, width=\"30%\", height=\"40%\")\n",
    "plt.grid(True)\n",
    "plt.xlim(2600,3050)\n",
    "plt.ylim(-10.0, 0)\n",
    "plt.plot(w, H_db, '-')\n",
    "plt.show()\n",
    "\n",
    "plt.figure(5)\n",
    "plt.plot((q/np.pi)*nyq_freq, 20*np.log10(abs(v)))\n",
    "plt.plot(w, H_db)\n",
    "plt.grid(True)\n",
    "plt.title(\"FFT & freqz method give same result?\")\n",
    "plt.show()\n"
   ]
  },
  {
   "attachments": {},
   "cell_type": "markdown",
   "metadata": {},
   "source": [
    "# Real vs. Complex Filters\n",
    "\n",
    "As an example of complex taps, let’s go back to the filtering use-case, except this time we want to receive the other interfering signal (without having to re-tune the radio). That means we want a band-pass filter, but not a symmetrical one. We only want to keep (a.k.a “pass”) frequencies between around 7 kHz to 13 kHz (we don’t want to also pass -13 kHz to -7 kHz):\n",
    "\n",
    "![Alt text](https://pysdr.org/_images/filter_use_case6.png)\n",
    "\n",
    "One way to design this kind of filter is to make a low-pass filter with a cutoff of 3 kHz and then frequency shift it. Remember that we can frequency shift x(t) (time domain) by multiplying it by e^{j2\\pi f_0t}. In this case f_0 should be 10 kHz, which shifts our filter up by 10 kHz. Recall that in our Python code from above, h was the filter taps of the low-pass filter. In order to create our band-pass filter we just have to multiply those taps by e^{j2\\pi f_0t}, although it involves creating a vector to represent time based on our sample period (inverse of the sample rate):"
   ]
  }
 ],
 "metadata": {
  "kernelspec": {
   "display_name": ".venv",
   "language": "python",
   "name": "python3"
  },
  "language_info": {
   "codemirror_mode": {
    "name": "ipython",
    "version": 3
   },
   "file_extension": ".py",
   "mimetype": "text/x-python",
   "name": "python",
   "nbconvert_exporter": "python",
   "pygments_lexer": "ipython3",
   "version": "3.9.6"
  },
  "orig_nbformat": 4
 },
 "nbformat": 4,
 "nbformat_minor": 2
}
